{
 "cells": [
  {
   "cell_type": "code",
   "execution_count": 1,
   "metadata": {},
   "outputs": [],
   "source": [
    "import math\n",
    "from functools import partial\n",
    "import numpy as np\n",
    "import pandas as pd\n",
    "from scipy.optimize import linprog, minimize, differential_evolution, NonlinearConstraint\n",
    "import matplotlib.pyplot as plt\n",
    "\n",
    "import sys\n",
    "sys.path.append(\"./../app\")\n",
    "\n",
    "import nordpool\n",
    "import smhi"
   ]
  },
  {
   "cell_type": "code",
   "execution_count": 2,
   "metadata": {},
   "outputs": [],
   "source": [
    "LONGITUDE = 12.1\n",
    "LATITUDE = 57.6\n",
    "AREA = \"SN3\""
   ]
  },
  {
   "cell_type": "code",
   "execution_count": 3,
   "metadata": {},
   "outputs": [],
   "source": [
    "# Constants\n",
    "k1 = 1/540000\n",
    "k2 = 1.5625*k1\n",
    "K = k1 + k2\n"
   ]
  },
  {
   "cell_type": "code",
   "execution_count": 4,
   "metadata": {},
   "outputs": [
    {
     "data": {
      "text/plain": [
       "array([13.39, 12.21, 12.01, 12.5 , 13.9 , 14.32, 14.01, 12.06, 11.6 ,\n",
       "        9.21,  3.45])"
      ]
     },
     "execution_count": 4,
     "metadata": {},
     "output_type": "execute_result"
    }
   ],
   "source": [
    "# Nordpool prices\n",
    "from datetime import date\n",
    "prices = nordpool.fetch_nordpool_data(AREA)\n",
    "prices = np.asarray(prices)\n",
    "prices = prices[prices != 0]\n",
    "prices"
   ]
  },
  {
   "cell_type": "code",
   "execution_count": 5,
   "metadata": {},
   "outputs": [
    {
     "data": {
      "text/plain": [
       "array([12.4, 12.4, 12.3, 11.9, 11.5, 10.9, 10.8, 10.9, 10.8, 10.5, 10. ])"
      ]
     },
     "execution_count": 5,
     "metadata": {},
     "output_type": "execute_result"
    }
   ],
   "source": [
    "temperatures = smhi.fetch_smhi_temperatures(LONGITUDE, LATITUDE)\n",
    "temperatures = np.insert(temperatures, 0, temperatures[0])  # Use forecast for next hour as the current temperature (for testing only, this should be replaced with a proper outdoor sensor when run in production)\n",
    "\n",
    "temperatures = np.asarray(temperatures[:len(prices)])\n",
    "temperatures"
   ]
  },
  {
   "cell_type": "code",
   "execution_count": 6,
   "metadata": {},
   "outputs": [
    {
     "data": {
      "text/plain": [
       "True"
      ]
     },
     "execution_count": 6,
     "metadata": {},
     "output_type": "execute_result"
    }
   ],
   "source": [
    "len(prices) == len(temperatures)"
   ]
  },
  {
   "cell_type": "code",
   "execution_count": 7,
   "metadata": {},
   "outputs": [],
   "source": [
    "# Forecasted outdoor temperature\n",
    "T_out = np.array(temperatures)"
   ]
  },
  {
   "cell_type": "code",
   "execution_count": 8,
   "metadata": {},
   "outputs": [
    {
     "data": {
      "text/plain": [
       "array([25.7152, 25.7152, 25.7904, 26.0912, 26.392 , 26.8432, 26.9184,\n",
       "       26.8432, 26.9184, 27.144 , 27.52  ])"
      ]
     },
     "execution_count": 8,
     "metadata": {},
     "output_type": "execute_result"
    }
   ],
   "source": [
    "# Initial guess\n",
    "def heating_curve(slope: float, T_out: float) -> float:\n",
    "    return 20 + (-0.16 * slope) * (T_out - 20)\n",
    "\n",
    "def inverse_heating_curve(slope: float, T_fr: float) -> float:\n",
    "    return (T_fr - 20) / (-0.16 * slope) + 20\n",
    "\n",
    "T_fr_0 = np.asarray(list(map(partial(heating_curve, 4.7), T_out)))\n",
    "T_fr_0"
   ]
  },
  {
   "cell_type": "code",
   "execution_count": 9,
   "metadata": {},
   "outputs": [],
   "source": [
    "def objective(x: np.ndarray):\n",
    "    # return x.sum() / 19.5 # Minimize energy\n",
    "    return (x * prices).sum() / (prices.sum()) # Minimize cost\n",
    "\n",
    "def _analytical_solution(T_in_0: float, T_fr: float, T_out: float, t: float = 3600):\n",
    "    T_w = (k2*T_fr + k1*T_out)/K\n",
    "    delta = T_in_0 - T_w\n",
    "    return T_w + delta*math.exp(-K*t)\n",
    "\n",
    "def simulation(T_fr: np.ndarray):\n",
    "    T_ins = []\n",
    "    T_in = 19.5\n",
    "    T_ins.append(T_in)\n",
    "\n",
    "    for (Tfr, Tout) in zip(T_fr, T_out):\n",
    "        T_in = _analytical_solution(T_in, Tfr, Tout)\n",
    "        T_ins.append(T_in)\n",
    "\n",
    "    return T_ins\n",
    "\n",
    "def temperature_span_constraint(x: np.ndarray):\n",
    "    T_ins = simulation(x)\n",
    "    lower = np.array(T_ins) - 17\n",
    "    upper = 22 - np.array(T_ins)\n",
    "    return np.concatenate([lower, upper])\n",
    "\n",
    "def final_temperature_constraint(x: np.ndarray):\n",
    "    return simulation(x)[-1] - 19.5\n"
   ]
  },
  {
   "cell_type": "code",
   "execution_count": 10,
   "metadata": {},
   "outputs": [],
   "source": [
    "res = minimize(\n",
    "    objective,\n",
    "    T_fr_0,\n",
    "    method=\"SLSQP\",\n",
    "    constraints=[\n",
    "        {\n",
    "            \"type\": \"ineq\",\n",
    "            \"fun\": temperature_span_constraint,\n",
    "        },\n",
    "        {\n",
    "            \"type\": \"eq\",\n",
    "            \"fun\": final_temperature_constraint\n",
    "        }\n",
    "    ],\n",
    "    bounds=[(19, 50)]*len(prices),\n",
    "    options={\n",
    "        \"maxiter\": 500,\n",
    "    }\n",
    ")"
   ]
  },
  {
   "cell_type": "code",
   "execution_count": 11,
   "metadata": {},
   "outputs": [
    {
     "data": {
      "text/plain": [
       "     fun: 21.82254980770162\n",
       "     jac: array([0.10407233, 0.09490085, 0.09334683, 0.09715533, 0.10803628,\n",
       "       0.11130118, 0.10889173, 0.09373546, 0.09015989, 0.07158399,\n",
       "       0.02681494])\n",
       " message: 'Optimization terminated successfully'\n",
       "    nfev: 361\n",
       "     nit: 30\n",
       "    njev: 30\n",
       "  status: 0\n",
       " success: True\n",
       "       x: array([19.        , 19.        , 19.        , 19.        , 19.        ,\n",
       "       19.        , 19.        , 19.        , 19.        , 46.81750904,\n",
       "       50.        ])"
      ]
     },
     "execution_count": 11,
     "metadata": {},
     "output_type": "execute_result"
    }
   ],
   "source": [
    "res"
   ]
  },
  {
   "cell_type": "code",
   "execution_count": 12,
   "metadata": {},
   "outputs": [
    {
     "data": {
      "text/plain": [
       "[19.5,\n",
       " 19.447904581984496,\n",
       " 19.396691568693072,\n",
       " 19.34568500923131,\n",
       " 19.292898393101865,\n",
       " 19.23836187133284,\n",
       " 19.180783075225172,\n",
       " 19.12351855810806,\n",
       " 19.067885005670156,\n",
       " 19.012532783217527,\n",
       " 19.243439787705043,\n",
       " 19.499999999998444]"
      ]
     },
     "execution_count": 12,
     "metadata": {},
     "output_type": "execute_result"
    }
   ],
   "source": [
    "simulation(res.x)"
   ]
  },
  {
   "cell_type": "code",
   "execution_count": 13,
   "metadata": {},
   "outputs": [
    {
     "data": {
      "image/png": "[encoded data removed]",
      "text/plain": [
       "<Figure size 640x480 with 2 Axes>"
      ]
     },
     "metadata": {},
     "output_type": "display_data"
    }
   ],
   "source": [
    "fig, ax1 = plt.subplots()\n",
    "\n",
    "ax2 = ax1.twinx()\n",
    "ax1.plot(prices, 'r')\n",
    "ax2.plot(res.x, 'b-', label=\"Framledningstemperatur, degC\")\n",
    "ax2.plot(simulation(res.x), 'b--', label=\"Innetemperatur, degC\")\n",
    "ax2.plot(T_out, 'b-.', label=\"Utetemperatur, degC\")\n",
    "ax2.plot(T_fr_0, 'y', label=\"Framledningstemperatur (original), degC\")\n",
    "ax2.plot(simulation(T_fr_0), 'y--', label=\"Innetemperatur (original), degC\")\n",
    "\n",
    "ax1.set_xlabel('hours')\n",
    "ax1.set_ylabel('Elpris (Öre/kWh)', color='r')\n",
    "ax2.set_ylabel('Temperatur (degC)', color='b')\n",
    "\n",
    "fig.legend()\n",
    "plt.grid()\n"
   ]
  },
  {
   "cell_type": "code",
   "execution_count": 14,
   "metadata": {},
   "outputs": [
    {
     "name": "stdout",
     "output_type": "stream",
     "text": [
      "Optimal framledningstemperatur just nu: 19.000000000000203 degC\n",
      "Styrsignal till VP (fejkad utetemperatur): 21.329787234042286 degC\n",
      "Besparing: 17.50545389673388 %\n"
     ]
    }
   ],
   "source": [
    "print(\"Optimal framledningstemperatur just nu:\",res.x[0], \"degC\")\n",
    "print(\"Styrsignal till VP (fejkad utetemperatur):\", inverse_heating_curve(4.7, res.x[0]), \"degC\")\n",
    "print(\"Besparing:\", (1 - (res.x*prices).sum() / (T_fr_0*prices).sum())*100,\"%\")"
   ]
  },
  {
   "cell_type": "code",
   "execution_count": null,
   "metadata": {},
   "outputs": [],
   "source": []
  },
  {
   "cell_type": "code",
   "execution_count": 15,
   "metadata": {},
   "outputs": [],
   "source": [
    "def T_eff(T_out: float, wind_speed: float) -> float:\n",
    "    return 13.12 + 0.61215*T_out - 13.956*wind_speed**0.16 +0.48669*T_out*wind_speed**0.16\n",
    "\n",
    "def trial(T_in_0: float, T_out: float, t: float = 3600):\n",
    "    delta = T_in_0 - T_out\n",
    "    return T_out + delta*math.exp(-k1*t)"
   ]
  },
  {
   "cell_type": "code",
   "execution_count": 16,
   "metadata": {},
   "outputs": [
    {
     "data": {
      "text/plain": [
       "35.51778852060412"
      ]
     },
     "execution_count": 16,
     "metadata": {},
     "output_type": "execute_result"
    }
   ],
   "source": [
    "trial(36.6, 9, 3600*6)"
   ]
  }
 ],
 "metadata": {
  "kernelspec": {
   "display_name": "Python 3.8.2 ('venv': venv)",
   "language": "python",
   "name": "python3"
  },
  "language_info": {
   "codemirror_mode": {
    "name": "ipython",
    "version": 3
   },
   "file_extension": ".py",
   "mimetype": "text/x-python",
   "name": "python",
   "nbconvert_exporter": "python",
   "pygments_lexer": "ipython3",
   "version": "3.8.2"
  },
  "orig_nbformat": 4,
  "vscode": {
   "interpreter": {
    "hash": "0012a1ad1f1e914c7884d263bcb04b138e382a55e05705faafd86dd2f5535661"
   }
  }
 },
 "nbformat": 4,
 "nbformat_minor": 2
}
